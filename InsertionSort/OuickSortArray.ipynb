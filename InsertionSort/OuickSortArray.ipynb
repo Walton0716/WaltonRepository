{
  "cells": [
  {
   "cell_type": "markdown",
   "metadata": {},
   "source": [
    "So far, we have only dealt with linear data structures (linked lists, stacks, and queues), where items follow each other one by one. But in a tree, there is a parent-child relationship between items. In a tree, we start with a root node, and each node has some children it points to. All nodes have a parent, except root node, and root node is the ancestor of all the rest. A node without any child is called a leaf node. Trees can be very useful to some real life applications, such as a computer's file system.  "
   ]
  },
  {
   "cell_type": "code",
   "execution_count": 4,
   "metadata": {},
   "outputs": [],
   "source": [
    "class TreeNode:\n",
    "    def partition(list, front, end):\n",
    "        i = front - 1\n",
    "        pivot = list[end]\n",
    "        j = 0\n",
    "        while j < end:\n",
    "             if(list[j]<pivot):\n",
    "                   i += 1\n",
    "                   temp = list[i]\n",
    "                   list[i] = list[j]\n",
    "                   list[j] = temp\n",
    "              j += 1\n",
    "         i += 1\n",
    "         temp = list[i]\n",
    "       list[i] = list[end]\n",
    "       list[end] = temp"
   ]
  }
}
