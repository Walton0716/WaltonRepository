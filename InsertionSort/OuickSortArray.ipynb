{
  {
   "cell_type": "code",
   "execution_count": 4,
   "metadata": {},
   "outputs": [],
   "source": [
    "class TreeNode:\n",
    "    def __init__(self, data):\n",
    "        self.data = data\n",
    "        self.leftChild = None\n",
    "        self.rightChild = None"
   ]
  },
  {
   "cell_type": "code",
   "execution_count": 5,
   "metadata": {},
   "outputs": [],
   "source": [
    "class BinarySearchTree:\n",
    "    def __init__(self, root=None):\n",
    "        self.root = root\n",
    "        \n",
    "    # Find the node with the minimum value    \n",
    "    def find_min(self):\n",
    "        if self.root is None:\n",
    "            return None\n",
    "        current = self.root\n",
    "        while current.leftChild is not None:\n",
    "            current = current.leftChild\n",
    "        return current\n",
    "    \n",
    "    # Find the node with the maximum value\n",
    "    def find_max(self):\n",
    "        if self.root is None:\n",
    "            return None\n",
    "        current = self.root\n",
    "        while current.rightChild is not None:\n",
    "            current = current.rightChild\n",
    "        return current\n",
    "    \n",
    "    # Insert a node with data into the BST\n",
    "    def insert(self, data):\n",
    "        node = TreeNode(data)\n",
    "        if self.root is None:\n",
    "            self.root = node\n",
    "        else:\n",
    "            current = self.root\n",
    "            while True:\n",
    "                if data < current.data:\n",
    "                    if current.leftChild is None:\n",
    "                        current.leftChild = node\n",
    "                        return \n",
    "                    current = current.leftChild\n",
    "                else:\n",
    "                    if current.rightChild is None:\n",
    "                        current.rightChild = node\n",
    "                        return \n",
    "                    current = current.rightChild\n",
    "    \n",
    "    # Delete a node with data from the BST\n",
    "    # Not implemented yet.\n",
    "    # This function is a bit tricky; we need to find the node with data first;\n",
    "    # then based on how many children it has, proceeds with different actions;\n",
    "    # 0 or 1 child should be easy, while 2 children is not trivial;\n",
    "    # need to find from its right child the node with smallest value that is\n",
    "    # bigger than the target's value\n",
    "    def delete(self, data):\n",
    "        pass\n",
    "    \n",
    "    # Search for the node with data\n",
    "    def search(self, data):\n",
    "        current = self.root\n",
    "        while current is not None:\n",
    "            if current.data == data:\n",
    "                return current\n",
    "            current = current.leftChild if data < current.data else current.rightChild\n",
    "        return current"
   ]
  },
  {
   "cell_type": "markdown",
   "metadata": {},
   "source": [
    "A binary search tree class, where the functionalities for finding min and max, insert a node, search for a node are implemented, and the idea for deleting a node is briefly discussed via comments. <br>__Find_min__ and __find_max__ are very straight forward, as we look for the leftmost and rightmost node respectively. <br>__Search__ and __insert__ require some comparisons starting at root, and go down level by level until the desired position is found. <br>__Delete__ is the least trivial one, and requires different actions based on three possible senarios, as discussed in the comments. <br><br>\n",
    "__Time Complexities__<br>\n",
    "<ul>\n",
    "    <li><b>find_min</b>: O(h) where h is the height of the tree</li>\n",
    "    <li><b>find_max</b>: O(h)</li>\n",
    "    <li><b>insert</b>: O(h)</li>\n",
    "    <li><b>delete</b>: O(h)</li>\n",
    "    <li><b>search</b>: O(h)</li>\n",
    "</ul>\n",
    "__Note__: The time complexity is guaranteed to be O(logN) if we have balanced binary search trees, as a balanced tree ensures its height to be optimized."
   ]
  }
 ],
 "metadata": {
  "kernelspec": {
   "display_name": "Python 3",
   "language": "python",
   "name": "python3"
  },
  "language_info": {
   "codemirror_mode": {
    "name": "ipython",
    "version": 3
   },
   "file_extension": ".py",
   "mimetype": "text/x-python",
   "name": "python",
   "nbconvert_exporter": "python",
   "pygments_lexer": "ipython3",
   "version": "3.6.3"
  }
 },
 "nbformat": 4,
 "nbformat_minor": 2
}
