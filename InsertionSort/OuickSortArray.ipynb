{
 {
   "cell_type": "code",
   "execution_count": 4,
   "metadata": {},
   "outputs": [],
   "source": [
    "class TreeNode:\n",
    "    def partition(list, front, end):\n",
    "        i = front - 1\n",
    "        pivot = list[end]\n",
    "        j = 0\n",
    "        while j < end:\n",
    "             if(list[j]<pivot):\n",
    "                   i += 1\n",
    "                   temp = list[i]\n",
    "                   list[i] = list[j]\n",
    "                   list[j] = temp\n",
    "              j += 1\n",
    "         i += 1\n",
    "         temp = list[i]\n",
      "       list[i] = list[end]\n",
      "       list[end] = temp"
   ]
  }
}
