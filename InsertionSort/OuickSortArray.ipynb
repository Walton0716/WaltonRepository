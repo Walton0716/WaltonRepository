def partition(list, front, end):
    i = front - 1
    pivot = list[end]
    j = 0
    while j < end:
        if (list[j]<pivot):
            i+=1
            temp = list[i]
            list[i] = list[j]
            list[j] = temp
        j+=1
    i+=1
    temp = list[i]
    list[i] = list[end]
    list[end] = temp
