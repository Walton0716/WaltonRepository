def QuickSort(list):
    QuickSortHelper(list, 0, len(list)-1)

def partition(list, front, end):
    i = front - 1
    pivot = list[end]
    j = 0
    while j < end:
        if (list[j]<pivot):
            i+=1
            temp = list[i]
            list[i] = list[j]
            list[j] = temp
        j+=1
    i+=1
    temp = list[i]
    list[i] = list[end]
    list[end] = temp


def OuickSortHelper(list, front, end):
    if (first < end):
        splitpoint = partition(list, front, end)
        QuickSortHelper(list, front, splitpoint - 1)
        QuickSortHelper(list, splitpoint +1, end)
