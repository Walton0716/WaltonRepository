
{
   "cell_type": "code",
   "execution_count": 4,
   "metadata": {},
   "outputs": [],
   "source": [
    "class TreeNode:\n",
    "    def partition(list, front, end):\n",
    "        i = front - 1\n",
    "        pivot = list[end]\n",
    "        j = 0\n"
   ]
  }
