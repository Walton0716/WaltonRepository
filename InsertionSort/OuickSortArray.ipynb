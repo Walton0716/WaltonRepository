def OuickSortHelper(list, front, end):
    if ( first < end ):
        splitpoint = partition(list, front, end)
        QuickSortHelper(list, front, splitpoint - 1)
        QuickSortHelper(list, splitpoint +1, end)
