def quickSort(list):
    quickSortHelper(list,0,len(list)-1)

def quickSortHelper(list,front,last):
    if first<last:
        splitpoint = partition(list,front,last)
        quickSortHelper(list,front,splitpoint-1)
        quickSortHelper(list,splitpoint+1,last)

def partition(list,front,last):
    i = front-1
    pivot = list[last]
    j = 0
    while j < last:
        if list[j] < pivot:
            i+=1
            temp = list[i]
            list[i] = list[j]
            list[j] = temp
         j+=1
    i += 1
    temp = list[i]
    list[i] = list[last]
    list[last] = temp
