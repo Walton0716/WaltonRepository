def quickSortHelper(list, front, end):
    if front < end :
        splitpoint = partition(list, front, end)
        quickSortHelper(list, front, splitpoint - 1)
        quickSortHelper(list, splitpoint +1, end)

def quickSort(list):
    quickSortHelper(list, 0, len(list)-1)

def partition(list, front, end):
    pivot = list[end]
    i = front-1
    j = front
    while j<end:
        if list[j]<pivot:
            i += 1
            temp = list[i]
            list[i] = list[j]
            list[j] = temp
        j += 1
    i += 1
    temp = list[i]
    list[i] = list[end]
    list[end] = temp
    return i
